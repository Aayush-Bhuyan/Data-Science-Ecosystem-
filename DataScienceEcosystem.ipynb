{
 "cells": [
  {
   "cell_type": "markdown",
   "id": "cc49ac4c-eeca-4bc4-aefd-7bb640721737",
   "metadata": {},
   "source": [
    "# Data Science Tools and Ecosystem"
   ]
  },
  {
   "cell_type": "markdown",
   "id": "5c593b90-7610-4556-972d-867946e300b7",
   "metadata": {},
   "source": [
    "In this notebook, Data Science Tools and Ecosystem are summarized."
   ]
  },
  {
   "cell_type": "markdown",
   "id": "f574fd1c-e957-4033-ad74-45e46e6a2848",
   "metadata": {},
   "source": [
    "Some of the popular languages that Data Scientists use are:"
   ]
  },
  {
   "cell_type": "markdown",
   "id": "9cf7c113-8987-4ff4-a88c-eb42f86262ab",
   "metadata": {},
   "source": [
    "1. Python\n",
    "2. SCALA\n",
    "3. Julia\n",
    "4. R\n",
    "5. C++"
   ]
  },
  {
   "cell_type": "markdown",
   "id": "bfbf4cc3-1c4a-474d-a853-005365859635",
   "metadata": {},
   "source": [
    "Some of the commonly used libraries used by Data Scientists include:"
   ]
  },
  {
   "cell_type": "markdown",
   "id": "0d97a624-bedd-4dba-bc54-dda1bfd6fbb4",
   "metadata": {},
   "source": [
    "1. Pandas\n",
    "2. NumPy\n",
    "3. SciPy\n",
    "4. MatPlotLib"
   ]
  },
  {
   "cell_type": "markdown",
   "id": "012242e1-6c2a-4745-959f-d4e9f6a9a900",
   "metadata": {},
   "source": [
    "| Data Science Tools |\n",
    "|--------------------|\n",
    "| Python |\n",
    "| SQL |\n",
    "| Julia |\n",
    "| JAVA |"
   ]
  },
  {
   "cell_type": "markdown",
   "id": "fdd700a7-ab74-4022-a227-edf1e305a161",
   "metadata": {},
   "source": [
    "### Below are a few examples of evaluating arithmetic expressions in Python"
   ]
  },
  {
   "cell_type": "markdown",
   "id": "0c57ebfc-1cbb-4803-a723-04e7321ad311",
   "metadata": {},
   "source": [
    " This a simple arithmetic expression to mutiply then add integers"
   ]
  },
  {
   "cell_type": "code",
   "execution_count": 5,
   "id": "48ea9237-c866-4c32-9ea5-844b00b4cb29",
   "metadata": {},
   "outputs": [
    {
     "data": {
      "text/html": [
       "17"
      ],
      "text/latex": [
       "17"
      ],
      "text/markdown": [
       "17"
      ],
      "text/plain": [
       "[1] 17"
      ]
     },
     "metadata": {},
     "output_type": "display_data"
    }
   ],
   "source": [
    " (3*4)+5"
   ]
  },
  {
   "cell_type": "markdown",
   "id": "92dbce4f-9074-4625-91ee-3598bf059167",
   "metadata": {},
   "source": [
    " This will convert 200 minutes to hours by diving by 60"
   ]
  },
  {
   "cell_type": "code",
   "execution_count": 6,
   "id": "a922f637-ab25-4999-9805-2d679a2cb810",
   "metadata": {},
   "outputs": [
    {
     "data": {
      "text/html": [
       "3.33333333333333"
      ],
      "text/latex": [
       "3.33333333333333"
      ],
      "text/markdown": [
       "3.33333333333333"
      ],
      "text/plain": [
       "[1] 3.333333"
      ]
     },
     "metadata": {},
     "output_type": "display_data"
    }
   ],
   "source": [
    "200/60"
   ]
  },
  {
   "cell_type": "markdown",
   "id": "a01eaa2a-483c-4758-bf6a-0de1039fe79b",
   "metadata": {},
   "source": [
    "**Objectives:**"
   ]
  },
  {
   "cell_type": "markdown",
   "id": "320f73bb-0603-4455-8ca5-f0fb838b1dc6",
   "metadata": {},
   "source": [
    "- List few examples of evaluating expressions in Python.\n",
    "- List some of the libraries commonly used Data Science tools.\n",
    "- List some of the comonly used Data Science tools.\n",
    "- List some of the popular languages used by Data Scientists."
   ]
  },
  {
   "cell_type": "markdown",
   "id": "62465ff6-f64d-4ad9-9f17-db52be74a76e",
   "metadata": {},
   "source": [
    "## Author\n",
    "Aayush Bhuyan"
   ]
  }
 ],
 "metadata": {
  "kernelspec": {
   "display_name": "R",
   "language": "R",
   "name": "ir"
  },
  "language_info": {
   "codemirror_mode": "r",
   "file_extension": ".r",
   "mimetype": "text/x-r-source",
   "name": "R",
   "pygments_lexer": "r",
   "version": "4.4.2"
  }
 },
 "nbformat": 4,
 "nbformat_minor": 5
}
